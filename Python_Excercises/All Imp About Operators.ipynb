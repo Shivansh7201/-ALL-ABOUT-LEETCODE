{
 "cells": [
  {
   "cell_type": "markdown",
   "metadata": {},
   "source": [
    "## Operators Excercise\n",
    "\n",
    "\n",
    "#### 1.Program for minimum of 3 numbers."
   ]
  },
  {
   "cell_type": "code",
   "execution_count": 5,
   "metadata": {},
   "outputs": [
    {
     "name": "stdout",
     "output_type": "stream",
     "text": [
      "Please Enter valid input!!!\n"
     ]
    }
   ],
   "source": [
    "first_no=int(input(\"Enter the first number:\"))\n",
    "second_no=int(input(\"Enter the second number:\"))\n",
    "third_no=int(input(\"Enter the third number:\"))\n",
    "if first_no <= 0 or second_no <= 0 or third_no <= 0:\n",
    "    print(\"Please Enter valid input!!!\") \n",
    "else:\n",
    "    mini=first_no if first_no<second_no and first_no<third_no else second_no if second_no<third_no else third_no\n",
    "    print(\"The minimum number is\",mini)"
   ]
  },
  {
   "cell_type": "markdown",
   "metadata": {},
   "source": [
    "#### 2.Calculator Program ( including worst too)"
   ]
  },
  {
   "cell_type": "code",
   "execution_count": 7,
   "metadata": {},
   "outputs": [
    {
     "name": "stdout",
     "output_type": "stream",
     "text": [
      "the addition of given number is 8\n",
      "the substraction of given numbers is 2\n",
      "the multiplication of given numbers is 15\n",
      "the division of given numbers is 1\n"
     ]
    }
   ],
   "source": [
    "class Calculator:\n",
    "    def __init__(self):\n",
    "        pass\n",
    "    \n",
    "    def add(self, num1, num2):\n",
    "        return num1 + num2\n",
    "    \n",
    "    def subtract(self, num1, num2):\n",
    "        return num1 - num2\n",
    "    \n",
    "    def multiply(self, num1, num2):\n",
    "        return num1 * num2\n",
    "    \n",
    "    def divide(self, num1, num2):\n",
    "        if num2 != 0:\n",
    "            return num1 / num2\n",
    "        else:\n",
    "            return \"Error: Division by zero\"\n",
    "        \n",
    "if __name__ == \"__main__\":\n",
    "    calc = Calculator()\n",
    "\n",
    "    print(\"the addition of given number is\",calc.add(5, 3))\n",
    "    print(\"the substraction of given numbers is\",calc.subtract(5, 3))\n",
    "    print(\"the multiplication of given numbers is\",calc.multiply(5, 3))\n",
    "    print(\"the division of given numbers is\",int(calc.divide(5, 3)))\n",
    " \n",
    "        "
   ]
  }
 ],
 "metadata": {
  "kernelspec": {
   "display_name": "Python 3",
   "language": "python",
   "name": "python3"
  },
  "language_info": {
   "codemirror_mode": {
    "name": "ipython",
    "version": 3
   },
   "file_extension": ".py",
   "mimetype": "text/x-python",
   "name": "python",
   "nbconvert_exporter": "python",
   "pygments_lexer": "ipython3",
   "version": "3.12.2"
  }
 },
 "nbformat": 4,
 "nbformat_minor": 2
}
