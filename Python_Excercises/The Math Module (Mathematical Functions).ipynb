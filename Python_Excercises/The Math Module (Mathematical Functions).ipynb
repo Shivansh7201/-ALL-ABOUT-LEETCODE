{
 "cells": [
  {
   "cell_type": "markdown",
   "metadata": {},
   "source": [
    "# All about mathematical functions"
   ]
  },
  {
   "cell_type": "code",
   "execution_count": 3,
   "metadata": {},
   "outputs": [
    {
     "name": "stdout",
     "output_type": "stream",
     "text": [
      "5.0\n",
      "3.141592653589793\n",
      "\n",
      "5.0\n",
      "3.141592653589793\n"
     ]
    }
   ],
   "source": [
    "import math \n",
    "print(math.sqrt(25))\n",
    "print(math.pi)\n",
    "print()\n",
    "\"\"\"Or we Can use another way to import the module\"\"\"\n",
    "\n",
    "import math as m\n",
    "print(m.sqrt(25))\n",
    "print(m.pi)"
   ]
  },
  {
   "cell_type": "markdown",
   "metadata": {},
   "source": [
    "### Some imp functions are :-\n",
    "\n",
    "1) ceil(x)\n",
    "2) floor(x)\n",
    "3) pow(x)\n",
    "4) sqrt(x)\n",
    "5) trunc(x)\n",
    "6) gcd(x,y)\n"
   ]
  },
  {
   "cell_type": "markdown",
   "metadata": {},
   "source": [
    "#### 1) Write a python program to find area of circle "
   ]
  },
  {
   "cell_type": "code",
   "execution_count": 8,
   "metadata": {},
   "outputs": [
    {
     "name": "stdout",
     "output_type": "stream",
     "text": [
      "The area of the circle with radius 6.0 is: 113.09733552923255\n"
     ]
    }
   ],
   "source": [
    "import math as m\n",
    "radius = float(input(\"Enter the radius of the circle: \"))\n",
    "print(\"The area of the circle with radius \" + str(radius) + \" is: \" + str(m.pi * radius**2))"
   ]
  }
 ],
 "metadata": {
  "kernelspec": {
   "display_name": "Python 3",
   "language": "python",
   "name": "python3"
  },
  "language_info": {
   "codemirror_mode": {
    "name": "ipython",
    "version": 3
   },
   "file_extension": ".py",
   "mimetype": "text/x-python",
   "name": "python",
   "nbconvert_exporter": "python",
   "pygments_lexer": "ipython3",
   "version": "3.12.2"
  }
 },
 "nbformat": 4,
 "nbformat_minor": 2
}
