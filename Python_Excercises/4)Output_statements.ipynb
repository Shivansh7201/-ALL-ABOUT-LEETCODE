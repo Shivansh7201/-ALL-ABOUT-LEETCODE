{
 "cells": [
  {
   "cell_type": "markdown",
   "metadata": {},
   "source": [
    "We Using **Print()** for displaying outputs. But, there are some forms of using it.\n",
    " \n"
   ]
  },
  {
   "cell_type": "markdown",
   "metadata": {},
   "source": [
    "### **Form-1** \n",
    "**print()** without any argument--> just print newline character    "
   ]
  },
  {
   "cell_type": "code",
   "execution_count": 1,
   "metadata": {},
   "outputs": [
    {
     "name": "stdout",
     "output_type": "stream",
     "text": [
      "We just try to print something!!!\n"
     ]
    }
   ],
   "source": [
    "print(\"We just try to print something!!!\")"
   ]
  },
  {
   "cell_type": "markdown",
   "metadata": {},
   "source": [
    "### **Form-2**\n",
    "printing string type with operand\n",
    "\n"
   ]
  },
  {
   "cell_type": "code",
   "execution_count": 2,
   "metadata": {},
   "outputs": [
    {
     "name": "stdout",
     "output_type": "stream",
     "text": [
      "HelloHelloHelloHello\n",
      "\n",
      "HelloWorld\n",
      "\n",
      "Hello World\n"
     ]
    }
   ],
   "source": [
    "print(4*\"Hello\")\n",
    "print()\n",
    "print(\"Hello\"+\"World\")\n",
    "print()\n",
    "print(\"Hello\",\"World\")"
   ]
  },
  {
   "cell_type": "markdown",
   "metadata": {},
   "source": [
    "### **Form-3**\n",
    "**print()** with variable number of arguments "
   ]
  },
  {
   "cell_type": "code",
   "execution_count": 3,
   "metadata": {},
   "outputs": [
    {
     "name": "stdout",
     "output_type": "stream",
     "text": [
      "The values are: 10 20 30 40\n"
     ]
    }
   ],
   "source": [
    "akad,bakad,bambay,boo=10,20,30,40\n",
    "print(\"The values are:\",akad,bakad,bambay,boo)"
   ]
  },
  {
   "cell_type": "markdown",
   "metadata": {},
   "source": [
    "### **Form-4**\n",
    "**print()** with end attribute "
   ]
  },
  {
   "cell_type": "code",
   "execution_count": 4,
   "metadata": {},
   "outputs": [
    {
     "name": "stdout",
     "output_type": "stream",
     "text": [
      "HELLO WORLD"
     ]
    }
   ],
   "source": [
    "print(\"HELLO\"+\" \"+\"WORLD\",end='')"
   ]
  },
  {
   "cell_type": "markdown",
   "metadata": {},
   "source": [
    "### **Form-5**\n",
    "**print(obj)** statements "
   ]
  },
  {
   "cell_type": "code",
   "execution_count": 5,
   "metadata": {},
   "outputs": [
    {
     "name": "stdout",
     "output_type": "stream",
     "text": [
      "[10, 20, 30, 40, 50]\n",
      "(10, 20, 30, 40)\n"
     ]
    }
   ],
   "source": [
    "list_1=[10,20,30,40,50]\n",
    "t=(10,20,30,40)\n",
    "print(list_1)\n",
    "print(t)"
   ]
  },
  {
   "cell_type": "markdown",
   "metadata": {},
   "source": [
    "### **Form-6**\n",
    "**print(String, variable list)** with end attribute "
   ]
  },
  {
   "cell_type": "code",
   "execution_count": 6,
   "metadata": {},
   "outputs": [
    {
     "name": "stdout",
     "output_type": "stream",
     "text": [
      "Hello Shivansh My favourite number is 7201\n",
      "\n",
      "I have Core Compatamcy in Java And Python\n"
     ]
    }
   ],
   "source": [
    "string_1='Shivansh'\n",
    "number=7201\n",
    "str_1=\"Java\"\n",
    "str_2=\"Python\"\n",
    "print(\"Hello\",string_1,\"My favourite number is\",number)\n",
    "print()\n",
    "print(\"I have Core Compatamcy in\",str_1,\"And\",str_2)"
   ]
  },
  {
   "cell_type": "markdown",
   "metadata": {},
   "source": [
    "### **Form-7**\n",
    "**print(formatted String)** \n",
    "%i--> int\n",
    "%d--> int\n",
    "%f-->float\n",
    "%s--> String type\n"
   ]
  },
  {
   "cell_type": "code",
   "execution_count": 9,
   "metadata": {},
   "outputs": [
    {
     "name": "stdout",
     "output_type": "stream",
     "text": [
      "Ekka value is 10\n",
      "\n",
      "dukka value is 20 and teeka value is 30\n"
     ]
    }
   ],
   "source": [
    "#  print(\"Formatted string\" %(variable list))\n",
    "\n",
    "ekka=10\n",
    "dukka=20\n",
    "teeka=30\n",
    "print(\"Ekka value is %i\" %ekka )\n",
    "print()\n",
    "print(\"dukka value is %d and teeka value is %d\" %(dukka,teeka))\n"
   ]
  },
  {
   "cell_type": "markdown",
   "metadata": {},
   "source": [
    "### **Form-8**\n",
    "**print()** with replacement operator {} "
   ]
  },
  {
   "cell_type": "code",
   "execution_count": 11,
   "metadata": {},
   "outputs": [
    {
     "name": "stdout",
     "output_type": "stream",
     "text": [
      "Hello Shivansh your salary is 10000000 and hope your future She won't think about it!!! will agree\n",
      "\n",
      "Hello Shivansh your salary is 10000000 and your future She won't think about it!!! will agree\n"
     ]
    }
   ],
   "source": [
    "name=\"Shivansh\"\n",
    "salary_expected=10000000\n",
    "gf=\"She won't think about it!!!\"\n",
    "print(\"Hello {0} your salary is {1} and hope your future {2} will agree\\n\".format(name,salary_expected,gf))\n",
    "print(\"Hello {x} your salary is {y} and your future {z} will agree\".format(x=name,y=salary_expected,z=gf))\n"
   ]
  }
 ],
 "metadata": {
  "kernelspec": {
   "display_name": "Python 3",
   "language": "python",
   "name": "python3"
  },
  "language_info": {
   "codemirror_mode": {
    "name": "ipython",
    "version": 3
   },
   "file_extension": ".py",
   "mimetype": "text/x-python",
   "name": "python",
   "nbconvert_exporter": "python",
   "pygments_lexer": "ipython3",
   "version": "3.12.2"
  }
 },
 "nbformat": 4,
 "nbformat_minor": 2
}
