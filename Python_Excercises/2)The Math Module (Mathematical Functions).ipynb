{
 "cells": [
  {
   "cell_type": "markdown",
   "metadata": {},
   "source": [
    "# All about mathematical functions"
   ]
  },
  {
   "cell_type": "code",
   "execution_count": 3,
   "metadata": {},
   "outputs": [
    {
     "name": "stdout",
     "output_type": "stream",
     "text": [
      "5.0\n",
      "3.141592653589793\n",
      "\n",
      "5.0\n",
      "3.141592653589793\n"
     ]
    }
   ],
   "source": [
    "import math \n",
    "print(math.sqrt(25))\n",
    "print(math.pi)\n",
    "print()\n",
    "\"\"\"Or we Can use another way to import the module\"\"\"\n",
    "\n",
    "import math as m\n",
    "print(m.sqrt(25))\n",
    "print(m.pi)"
   ]
  },
  {
   "cell_type": "markdown",
   "metadata": {},
   "source": [
    "### Some imp functions are :-\n",
    "\n",
    "1) ceil(x)\n",
    "2) floor(x)\n",
    "3) pow(x)\n",
    "4) sqrt(x)\n",
    "5) trunc(x)\n",
    "6) gcd(x,y)\n"
   ]
  },
  {
   "cell_type": "markdown",
   "metadata": {},
   "source": [
    "#### 1) Write a python program to find area of circle "
   ]
  },
  {
   "cell_type": "code",
   "execution_count": 8,
   "metadata": {},
   "outputs": [
    {
     "name": "stdout",
     "output_type": "stream",
     "text": [
      "The area of the circle with radius 6.0 is: 113.09733552923255\n"
     ]
    }
   ],
   "source": [
    "import math as m\n",
    "radius = float(input(\"Enter the radius of the circle: \"))\n",
    "print(\"The area of the circle with radius \" + str(radius) + \" is: \" + str(m.pi * radius**2))"
   ]
  },
  {
   "cell_type": "markdown",
   "metadata": {},
   "source": [
    "2) Write a program to read Employee data from the keyboard and print the data"
   ]
  },
  {
   "cell_type": "code",
   "execution_count": 1,
   "metadata": {},
   "outputs": [
    {
     "name": "stdout",
     "output_type": "stream",
     "text": [
      "Please Confirm Information\n",
      "Employee Number: 5\n",
      "Employee name: shivansh\n",
      "Employee salary: 100.0\n",
      "Employee address: Bhopal\n",
      "Employee married?: True\n"
     ]
    }
   ],
   "source": [
    "emp_no=int(input(\"Enter the employee number:\"))\n",
    "emp_name=input(\"Enter the employee name:\")\n",
    "emp_sal=float(input(\"Enter the Employee salary:\"))\n",
    "emp_add=input(\"Enter the employee address:\")\n",
    "married=bool(input(\"Employee Married?[True|False]:\"))\n",
    "print(\"Please Confirm Information\")\n",
    "print(\"Employee Number:\",emp_no)\n",
    "print(\"Employee name:\",emp_name)\n",
    "print(\"Employee salary:\",emp_sal)\n",
    "print(\"Employee address:\",emp_add)\n",
    "print(\"Employee married?:\",married)\n"
   ]
  },
  {
   "cell_type": "markdown",
   "metadata": {},
   "source": [
    "3) Write the program to take the multiple inputsfrom keyboard \n"
   ]
  },
  {
   "cell_type": "code",
   "execution_count": 8,
   "metadata": {},
   "outputs": [
    {
     "name": "stdout",
     "output_type": "stream",
     "text": [
      "The Sum of Three Number: 15\n"
     ]
    }
   ],
   "source": [
    "first_no,second_no,third_no=[int(x) for x in input(\"Enter the numbers:\").split()]\n",
    "print(\"The Sum of Three Number:\",first_no + second_no+ third_no)"
   ]
  },
  {
   "cell_type": "markdown",
   "metadata": {},
   "source": [
    "## eval():- \n",
    "The Special Function that evaluate given String of expressions and values."
   ]
  },
  {
   "cell_type": "code",
   "execution_count": 12,
   "metadata": {},
   "outputs": [
    {
     "name": "stdout",
     "output_type": "stream",
     "text": [
      "159\n",
      "********************************************\n",
      "11.5\n"
     ]
    }
   ],
   "source": [
    "Example_1=eval(\"10+70+79\")\n",
    "print(Example_1)\n",
    "print(\"********************************************\")\n",
    "\n",
    "\n",
    "Example_2=eval(\"10+2*3/4\")\n",
    "print(Example_2)"
   ]
  },
  {
   "cell_type": "markdown",
   "metadata": {},
   "source": []
  }
 ],
 "metadata": {
  "kernelspec": {
   "display_name": "Python 3",
   "language": "python",
   "name": "python3"
  },
  "language_info": {
   "codemirror_mode": {
    "name": "ipython",
    "version": 3
   },
   "file_extension": ".py",
   "mimetype": "text/x-python",
   "name": "python",
   "nbconvert_exporter": "python",
   "pygments_lexer": "ipython3",
   "version": "3.12.2"
  }
 },
 "nbformat": 4,
 "nbformat_minor": 2
}
