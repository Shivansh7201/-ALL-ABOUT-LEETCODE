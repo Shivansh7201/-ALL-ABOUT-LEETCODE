{
 "cells": [
  {
   "cell_type": "markdown",
   "metadata": {},
   "source": [
    "# Ways of Taking Input Form User\n",
    " "
   ]
  },
  {
   "cell_type": "markdown",
   "metadata": {},
   "source": [
    "WAP to display Command Line Argument"
   ]
  },
  {
   "cell_type": "code",
   "execution_count": 4,
   "metadata": {},
   "outputs": [
    {
     "name": "stdout",
     "output_type": "stream",
     "text": [
      "The number of command line argument: 2\n",
      "The list of command line argument: ['C:\\\\Users\\\\HP\\\\AppData\\\\Roaming\\\\Python\\\\Python312\\\\site-packages\\\\ipykernel_launcher.py', '--f=c:\\\\Users\\\\HP\\\\AppData\\\\Roaming\\\\jupyter\\\\runtime\\\\kernel-v2-12528bukrrYUHnyba.json']\n",
      "Command line arguments one by one:\n",
      "C:\\Users\\HP\\AppData\\Roaming\\Python\\Python312\\site-packages\\ipykernel_launcher.py\n",
      "--f=c:\\Users\\HP\\AppData\\Roaming\\jupyter\\runtime\\kernel-v2-12528bukrrYUHnyba.json\n"
     ]
    }
   ],
   "source": [
    "from sys import argv\n",
    "print(\"The number of command line argument:\",len(argv))\n",
    "print(\"The list of command line argument:\",argv)\n",
    "print(\"Command line arguments one by one:\")\n",
    "for x in argv:\n",
    "    print(x)"
   ]
  },
  {
   "cell_type": "code",
   "execution_count": 6,
   "metadata": {},
   "outputs": [
    {
     "ename": "ValueError",
     "evalue": "invalid literal for int() with base 10: '--f=c:\\\\Users\\\\HP\\\\AppData\\\\Roaming\\\\jupyter\\\\runtime\\\\kernel-v2-12528bukrrYUHnyba.json'",
     "output_type": "error",
     "traceback": [
      "\u001b[1;31m---------------------------------------------------------------------------\u001b[0m",
      "\u001b[1;31mValueError\u001b[0m                                Traceback (most recent call last)",
      "Cell \u001b[1;32mIn[6], line 5\u001b[0m\n\u001b[0;32m      3\u001b[0m args\u001b[38;5;241m=\u001b[39margv[\u001b[38;5;241m1\u001b[39m:]\n\u001b[0;32m      4\u001b[0m \u001b[38;5;28;01mfor\u001b[39;00m x \u001b[38;5;129;01min\u001b[39;00m args:\n\u001b[1;32m----> 5\u001b[0m     n\u001b[38;5;241m=\u001b[39m\u001b[38;5;28;43mint\u001b[39;49m\u001b[43m(\u001b[49m\u001b[43mx\u001b[49m\u001b[43m)\u001b[49m\n\u001b[0;32m      6\u001b[0m     \u001b[38;5;28msum\u001b[39m\u001b[38;5;241m=\u001b[39m\u001b[38;5;28msum\u001b[39m\u001b[38;5;241m+\u001b[39mn\n\u001b[0;32m      7\u001b[0m \u001b[38;5;28mprint\u001b[39m(\u001b[38;5;124m\"\u001b[39m\u001b[38;5;124mThe Sum:\u001b[39m\u001b[38;5;124m\"\u001b[39m,\u001b[38;5;28msum\u001b[39m)    \n",
      "\u001b[1;31mValueError\u001b[0m: invalid literal for int() with base 10: '--f=c:\\\\Users\\\\HP\\\\AppData\\\\Roaming\\\\jupyter\\\\runtime\\\\kernel-v2-12528bukrrYUHnyba.json'"
     ]
    }
   ],
   "source": [
    "from sys import argv\n",
    "sum=0\n",
    "args=argv[1:]\n",
    "for x in args:\n",
    "    n=int(x)\n",
    "    sum=sum+n\n",
    "print(\"The Sum:\",sum)    "
   ]
  },
  {
   "cell_type": "markdown",
   "metadata": {},
   "source": [
    "We can use Print() statement with string and any number of arguments."
   ]
  },
  {
   "cell_type": "code",
   "execution_count": 2,
   "metadata": {},
   "outputs": [
    {
     "name": "stdout",
     "output_type": "stream",
     "text": [
      "Python name taken from The Monty Python Circus And It is developed in 1991\n",
      "Python Language is general purpose language\n",
      " It has the features of OOPs And\n",
      " With Scripting, Dynamically interpreted language.\n"
     ]
    }
   ],
   "source": [
    "str_1=\"The Monty Python Circus\"\n",
    "No=1991\n",
    "s1=\"It has the features of OOPs\"\n",
    "s2=\"With Scripting, Dynamically interpreted language.\"\n",
    "print(\"Python name taken from\",str_1,\"And It is developed in\",No)\n",
    "print(\"Python Language is general purpose language\\n\",s1,\"And\\n\",s2)\n"
   ]
  },
  {
   "cell_type": "markdown",
   "metadata": {},
   "source": [
    "PRINT() Using Formators like C language "
   ]
  },
  {
   "cell_type": "code",
   "execution_count": 8,
   "metadata": {},
   "outputs": [
    {
     "name": "stdout",
     "output_type": "stream",
     "text": [
      "It's fact that Python is the legend.\n",
      "The list of items are [10, 20, 30]\n"
     ]
    }
   ],
   "source": [
    "str_1=\"Python is the legend\"\n",
    "list_1=[10,20,30]\n",
    "print(\"It's fact that %s.\\nThe list of items are %s\" %(str_1,list_1))"
   ]
  },
  {
   "cell_type": "markdown",
   "metadata": {},
   "source": [
    "PRINT() with replacement of OPERATOR \"{ }\""
   ]
  },
  {
   "cell_type": "code",
   "execution_count": 12,
   "metadata": {},
   "outputs": [
    {
     "name": "stdout",
     "output_type": "stream",
     "text": [
      "Hello Semicolon your salary is 10000 and your freind parenthesis is waiting.\n",
      "\n",
      "Hello Semicolon your salary is 10000 and your friend parenthesis is waiting\n"
     ]
    }
   ],
   "source": [
    "name=\"Semicolon\"\n",
    "salary=10000\n",
    "friend=\"parenthesis\"\n",
    "print(\"Hello {0} your salary is {1} and your freind {2} is waiting.\".format(name,salary,friend))\n",
    "print()\n",
    "print(\"Hello {x} your salary is {y} and your friend {z} is waiting\".format(x=name,y=salary,z=friend))"
   ]
  }
 ],
 "metadata": {
  "kernelspec": {
   "display_name": "Python 3",
   "language": "python",
   "name": "python3"
  },
  "language_info": {
   "codemirror_mode": {
    "name": "ipython",
    "version": 3
   },
   "file_extension": ".py",
   "mimetype": "text/x-python",
   "name": "python",
   "nbconvert_exporter": "python",
   "pygments_lexer": "ipython3",
   "version": "3.12.2"
  }
 },
 "nbformat": 4,
 "nbformat_minor": 2
}
