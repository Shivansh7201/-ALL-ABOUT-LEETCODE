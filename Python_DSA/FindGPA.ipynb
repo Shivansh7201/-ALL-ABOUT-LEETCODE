{
 "cells": [
  {
   "cell_type": "markdown",
   "metadata": {},
   "source": [
    "A python program that computers a Grade point average.  "
   ]
  },
  {
   "cell_type": "code",
   "execution_count": 1,
   "metadata": {},
   "outputs": [
    {
     "name": "stdout",
     "output_type": "stream",
     "text": [
      "GPA: 90.0\n"
     ]
    }
   ],
   "source": [
    "grades = [85, 90, 92, 88, 95]  # list of grades\n",
    "total = sum(grades)  # calculate the sum of grades\n",
    "num_grades = len(grades)  # get the number of grades\n",
    "gpa = total / num_grades  # calculate the GPA\n",
    "print(\"GPA:\", gpa)"
   ]
  }
 ],
 "metadata": {
  "kernelspec": {
   "display_name": "Python 3",
   "language": "python",
   "name": "python3"
  },
  "language_info": {
   "codemirror_mode": {
    "name": "ipython",
    "version": 3
   },
   "file_extension": ".py",
   "mimetype": "text/x-python",
   "name": "python",
   "nbconvert_exporter": "python",
   "pygments_lexer": "ipython3",
   "version": "3.12.2"
  }
 },
 "nbformat": 4,
 "nbformat_minor": 2
}
